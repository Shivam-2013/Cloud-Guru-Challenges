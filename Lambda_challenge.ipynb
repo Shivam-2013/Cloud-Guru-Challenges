{
 "cells": [
  {
   "cell_type": "code",
   "execution_count": 1,
   "id": "d98911e7",
   "metadata": {},
   "outputs": [],
   "source": [
    "import pandas as pd\n",
    "import requests\n",
    "import io"
   ]
  },
  {
   "cell_type": "code",
   "execution_count": 2,
   "id": "f626f662",
   "metadata": {},
   "outputs": [],
   "source": [
    "url = \"https://raw.githubusercontent.com/nytimes/covid-19-data/master/us.csv\"\n",
    "url_1 = \"https://raw.githubusercontent.com/datasets/covid-19/master/data/time-series-19-covid-combined.csv\""
   ]
  },
  {
   "cell_type": "markdown",
   "id": "a0d8be31",
   "metadata": {},
   "source": [
    "# insert data from first csv file"
   ]
  },
  {
   "cell_type": "code",
   "execution_count": 3,
   "id": "4df22280",
   "metadata": {},
   "outputs": [
    {
     "name": "stdout",
     "output_type": "stream",
     "text": [
      "         date  cases  deaths\n",
      "0  2020-01-21      1       0\n",
      "1  2020-01-22      1       0\n",
      "2  2020-01-23      1       0\n",
      "3  2020-01-24      2       0\n",
      "4  2020-01-25      3       0\n"
     ]
    }
   ],
   "source": [
    "download = requests.get(url).content\n",
    "newyorktime_df = pd.read_csv(io.StringIO(download.decode('utf-8')))\n",
    "print(newyorktime_df.head())"
   ]
  },
  {
   "cell_type": "markdown",
   "id": "ead486de",
   "metadata": {},
   "source": [
    "## insert data from second csv file"
   ]
  },
  {
   "cell_type": "code",
   "execution_count": 4,
   "id": "c9d5c326",
   "metadata": {},
   "outputs": [],
   "source": [
    "download_1 = requests.get(url_1).content\n",
    "hopkin_df = pd.read_csv(io.StringIO(download_1.decode('utf-8')))"
   ]
  },
  {
   "cell_type": "code",
   "execution_count": 5,
   "id": "2c470232",
   "metadata": {},
   "outputs": [],
   "source": [
    "#print(df.keys())\n",
    "#print(df['date'].values)\n",
    "hopkin_us_df = hopkin_df[hopkin_df['Country/Region'] == \"US\"]\n",
    "hopkin_us_df = hopkin_us_df.drop(columns=['Country/Region','Province/State','Confirmed','Deaths'])\n",
    "#print(hopkin_us_df.head())"
   ]
  },
  {
   "cell_type": "markdown",
   "id": "0f8ee437",
   "metadata": {},
   "source": [
    "# changing the data types "
   ]
  },
  {
   "cell_type": "code",
   "execution_count": 6,
   "id": "3138b7e2",
   "metadata": {},
   "outputs": [],
   "source": [
    "hopkin_us_df['Date'] = hopkin_us_df['Date'].apply(pd.to_datetime)\n",
    "newyorktime_df['date'] = newyorktime_df['date'].apply(pd.to_datetime)\n",
    "#print(hopkin_us_df.dtypes)"
   ]
  },
  {
   "cell_type": "code",
   "execution_count": 7,
   "id": "92b54e51",
   "metadata": {},
   "outputs": [],
   "source": [
    "newyorktime_df.rename(columns = {'date' : 'Date'},inplace = True)\n",
    "#print(newyorktime_df.dtypes)"
   ]
  },
  {
   "cell_type": "markdown",
   "id": "c601062f",
   "metadata": {},
   "source": [
    "# merge the data frames"
   ]
  },
  {
   "cell_type": "code",
   "execution_count": 8,
   "id": "820bfcb0",
   "metadata": {},
   "outputs": [
    {
     "name": "stdout",
     "output_type": "stream",
     "text": [
      "          Date     cases  deaths  Recovered\n",
      "0   2020-01-22         1       0        0.0\n",
      "1   2020-01-23         1       0        0.0\n",
      "2   2020-01-24         2       0        0.0\n",
      "3   2020-01-25         3       0        0.0\n",
      "4   2020-01-26         5       0        0.0\n",
      "..         ...       ...     ...        ...\n",
      "722 2022-01-13  64124915  845588        0.0\n",
      "723 2022-01-14  65058164  848568        0.0\n",
      "724 2022-01-15  65476992  849566        0.0\n",
      "725 2022-01-16  65814876  849976        0.0\n",
      "726 2022-01-17  66526927  850750        0.0\n",
      "\n",
      "[727 rows x 4 columns]\n"
     ]
    }
   ],
   "source": [
    "dataset_1 = pd.merge(newyorktime_df,hopkin_us_df,on='Date')\n",
    "print(dataset_1)"
   ]
  },
  {
   "cell_type": "code",
   "execution_count": null,
   "id": "5de29110",
   "metadata": {},
   "outputs": [],
   "source": []
  },
  {
   "cell_type": "code",
   "execution_count": null,
   "id": "03d29617",
   "metadata": {},
   "outputs": [],
   "source": []
  }
 ],
 "metadata": {
  "kernelspec": {
   "display_name": "Python 3 (ipykernel)",
   "language": "python",
   "name": "python3"
  },
  "language_info": {
   "codemirror_mode": {
    "name": "ipython",
    "version": 3
   },
   "file_extension": ".py",
   "mimetype": "text/x-python",
   "name": "python",
   "nbconvert_exporter": "python",
   "pygments_lexer": "ipython3",
   "version": "3.9.7"
  }
 },
 "nbformat": 4,
 "nbformat_minor": 5
}
